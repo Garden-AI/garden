{
 "cells": [
  {
   "cell_type": "code",
   "execution_count": null,
   "metadata": {},
   "outputs": [],
   "source": [
    "(Temporary!)\n",
    "\n",
    "First, import the libraries you'll need. In one cell, import your data science libraries.\n",
    "\n",
    "```python\n",
    "import pandas as pd\n",
    "import joblib\n",
    "import sklearn\n",
    "```\n",
    "\n",
    "In the next cell, import Garden helpers.\n",
    "\n",
    "```python\n",
    "from garden_ai.model_connectors import HFConnector\n",
    "from garden_ai import EntrypointMetadata, garden_entrypoint, entrypoint_test\n",
    "```\n",
    "\n",
    "Now it's time to write a function that executes your model. To do this you'll need to pull down the serialized model (the \"weights\") from Hugging Face. Use Garden's Hugging Face connector so that our notebook can connect to the Hugging Face repo with our iris model.\n",
    "\n",
    "```python\n",
    "tutorial_hf_repo = HFConnector(\"Garden-AI/sklearn-seedling\")\n",
    "tutorial_hf_repo\n",
    "```"
   ]
  },
  {
   "cell_type": "markdown",
   "metadata": {},
   "source": []
  }
 ],
 "metadata": {
  "language_info": {
   "name": "python"
  }
 },
 "nbformat": 4,
 "nbformat_minor": 2
}
