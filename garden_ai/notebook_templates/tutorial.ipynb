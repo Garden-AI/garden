{
 "cells": [
  {
   "cell_type": "markdown",
   "metadata": {},
   "source": [
    "# Garden Tutorial Notebook\n",
    "Welcome to the Garden tutorial notebook! This notebook picks up from Step 3 of the [online tutorial](https://garden-ai.readthedocs.io/en/latest/user_guide/tutorial/). It will show you how to make a function that invokes your ML model in a way that Garden can publish."
   ]
  },
  {
   "cell_type": "markdown",
   "metadata": {},
   "source": [
    "### Import Libraries\n",
    "\n",
    "First import the helpers you'll need from the Garden SDK ..."
   ]
  },
  {
   "cell_type": "code",
   "execution_count": null,
   "metadata": {},
   "outputs": [],
   "source": [
    "from garden_ai.model_connectors import HFConnector\n",
    "from garden_ai import EntrypointMetadata, garden_entrypoint, entrypoint_test"
   ]
  },
  {
   "cell_type": "markdown",
   "metadata": {},
   "source": [
    "... and the data science libraries that you'll use."
   ]
  },
  {
   "cell_type": "code",
   "execution_count": null,
   "metadata": {},
   "outputs": [],
   "source": [
    "import pandas as pd\n",
    "import sklearn\n",
    "import joblib"
   ]
  },
  {
   "cell_type": "markdown",
   "metadata": {},
   "source": [
    "### Fetch Metadata About Your Model\n",
    "\n",
    "You need to link the iris model that's stored in a public model repository to this notebook. Because the iris model is stored on Hugging Face, you'll use Garden's Hugging Face model connector. You'll use the connector in your entrypoint function to download the model. You'll also use it to link model metadata from Hugging Face to your entrypoint function. That will let users find your model weights after you publish it."
   ]
  },
  {
   "cell_type": "code",
   "execution_count": null,
   "metadata": {},
   "outputs": [],
   "source": [
    "# The model is at https://huggingface.co/Garden-AI/sklearn-seedling.\n",
    "# You just need to pass in the {organization}/{repo name} part to the HFConnector constructor.\n",
    "hf_iris_connector = HFConnector(\"Garden-AI/sklearn-seedling\")\n",
    "\n",
    "# Check out the model card associated with this repo as a sanity check\n",
    "hf_iris_connector"
   ]
  },
  {
   "cell_type": "markdown",
   "metadata": {},
   "source": [
    "### Fill in Metadata About Your Entrypoint Function\n",
    "\n",
    "Now you'll write down some basic metadata about your entrypoint function. This lets you give proper attribution and context for your work. The metadata will also help other researchers search for your model on [thegardens.ai](thegardens.ai)."
   ]
  },
  {
   "cell_type": "code",
   "execution_count": null,
   "metadata": {},
   "outputs": [],
   "source": [
    "iris_entrypoint_meta = EntrypointMetadata(\n",
    "    title=\"Iris Classifier\",\n",
    "    description=\"A simple demonstration of how to host a scikit-learn model with Garden.\",\n",
    "    authors=[\"Your Name\"],\n",
    "    tags=[\"scikit-learn\", \"tutorial\"]\n",
    ")"
   ]
  },
  {
   "cell_type": "markdown",
   "metadata": {},
   "source": [
    "### Link Your Entrypoint Function to a Garden\n",
    "\n",
    "❗️❗️ **You need to edit the next cell** ❗️❗️\n",
    "\n",
    "Copy the DOI of the garden you made earlier in the tutorial and assign it to `my_garden_doi`. You can run `garden-ai garden list` in a separate terminal to find it."
   ]
  },
  {
   "cell_type": "code",
   "execution_count": null,
   "metadata": {},
   "outputs": [],
   "source": [
    "# ADD YOUR GARDEN DOI HERE!\n",
    "my_garden_doi = ''\n",
    "\n",
    "assert my_garden_doi != '', \"Remember to include your garden DOI!!\""
   ]
  },
  {
   "cell_type": "markdown",
   "metadata": {},
   "source": [
    "### Write Your Entrypoint Function\n",
    "\n",
    "Now you can write the function that runs the iris model! Notice how you pass in the EntrypointMetadata and HFModelConnector as arguments to the `garden_entrypoint` decorator. This is how Garden will link this metadata to the `classify_irises` function. The `garden_doi` argument tells Garden to publish this entrypoint inside of the garden with that DOI.\n",
    "\n",
    "The function itself is straightforward. It downloads the model, loads it into memory, runs it with the caller's data, and transforms the model output into a user-interpretable format before returning the results."
   ]
  },
  {
   "cell_type": "code",
   "execution_count": null,
   "metadata": {},
   "outputs": [],
   "source": [
    "@garden_entrypoint(\n",
    "    metadata=iris_entrypoint_meta,  \n",
    "    model_connectors=[hf_iris_connector], \n",
    "    garden_doi=my_garden_doi\n",
    ")\n",
    "def classify_irises(input_array):\n",
    "    # The HFConnector.stage() method downloads the model weights from Hugging Face.\n",
    "    # Be sure to only call .stage inside of an entrypoint function!\n",
    "    download_path = hf_iris_connector.stage()\n",
    "    \n",
    "    # HFConnector.stage() returns the directory it downloaded the contents of the Hugging Face repo to. \n",
    "    # The serialized model file (model.joblib) is in the root of the repository.\n",
    "    model = joblib.load(f\"{download_path}/model.joblib\")\n",
    "    \n",
    "    # Call the model!\n",
    "    predictions = model.predict(input_array)\n",
    "\n",
    "    # Transform model output from ints to strings and send the end results to the user.\n",
    "    as_strings = [['setosa', 'versicolor', 'virginica'][prediction] for prediction in predictions]\n",
    "    return as_strings"
   ]
  },
  {
   "cell_type": "markdown",
   "metadata": {},
   "source": [
    "### Test Your Entrypoint Function\n",
    "\n",
    "Before publishing your entrypoint function, you should test it to make sure it works. \n",
    "Decorating your test function with `@entrypoint_test(classify_irises)` does two things:\n",
    "1. **It attaches this function as metadata to the entrypoint function.** Other users can see your test function as an example of how to invoke your entrypoint function.\n",
    "2. **It calls your model safely.** Any function tagged as an `entrypoint_test` won't be executed by Garden when it builds a container from your notebook. This helps to make sure you don't accidentally \"bake your weights\" into the container. (More on that later.)"
   ]
  },
  {
   "cell_type": "code",
   "execution_count": null,
   "metadata": {},
   "outputs": [],
   "source": [
    "@entrypoint_test(classify_irises)\n",
    "def test_the_classifier():\n",
    "    example_input = [[5.1, 3.5, 1.4, 0.2]]\n",
    "    result = classify_irises(example_input)\n",
    "    return result\n",
    "\n",
    "# This should return a list with one string, ['setosa']\n",
    "test_the_classifier()"
   ]
  },
  {
   "cell_type": "markdown",
   "metadata": {},
   "source": [
    "### Epilogue: Publishing Your Model\n",
    "\n",
    "Now you have a working entrypoint function that invokes your model locally. How will Garden make that function run on remote computing endpoints? From here you can run `garden-ai notebook publish tutorial_notebook.ipynb --base-image=\"3.10-sklearn\"`. Garden will open a clean `3.10-sklearn` base container, run the whole notebook in the container, and freeze the state of the notebook's Python session. When someone calls your entrypoint function, the function will run in that Python session.\n",
    "\n",
    "This implies that if your notebook only works if you run cells out of order, Garden won't be able to publish it. To check if your notebook runs from top to bottom you can select _Kernel_ -> _Restart Kernel and Run All Cells_ from the Jupyter toolbar.\n",
    "\n",
    "### Epilogue: Do Not Bake Model Weights Into the Published Container\n",
    "\n",
    "Any \"side effects\" that happen when you run the notebook from top to bottom will get saved in your published container. That includes installing extra packages and creating directories. This can come in handy. \n",
    "\n",
    "But be careful not to download your model weights during publication. That would \"bake in\" your weights to the container. For a tiny model like the iris model that's not a big problem. But for larger models it will make your container too big to publish. If Garden detects that a model connector's `.stage()` method was called during publication, it will abort. \n",
    "\n",
    "**Before publishing, make sure your notebook follows these rules:**\n",
    "1. Only call `.stage()` on a model connector inside your entrypoint function(s).\n",
    "2. Your entrypoint function should not be called when you run the notebook from top to bottom.\n",
    "\n",
    "You can break rule 2 if you call your entrypoint function from an `entrypoint_test`. Garden turns entrypoint test functions turn into no-ops during publication."
   ]
  },
  {
   "cell_type": "markdown",
   "metadata": {},
   "source": [
    "## Return to Part 4 of the [Online Tutorial](https://garden-ai.readthedocs.io/en/latest/user_guide/tutorial/) Now!"
   ]
  }
 ],
 "metadata": {
  "kernelspec": {
   "display_name": "Python 3 (ipykernel)",
   "language": "python",
   "name": "python3"
  },
  "language_info": {
   "codemirror_mode": {
    "name": "ipython",
    "version": 3
   },
   "file_extension": ".py",
   "mimetype": "text/x-python",
   "name": "python",
   "nbconvert_exporter": "python",
   "pygments_lexer": "ipython3",
   "version": "3.10.12"
  }
 },
 "nbformat": 4,
 "nbformat_minor": 4
}
