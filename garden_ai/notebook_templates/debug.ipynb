{
 "cells": [
  {
   "cell_type": "markdown",
   "metadata": {},
   "source": [
    "### Running the cell below will load every definition in your original notebook within a containerized environment. This is the same environment as the one that is executed remotely."
   ]
  },
  {
   "cell_type": "code",
   "execution_count": null,
   "metadata": {},
   "outputs": [],
   "source": [
    "import dill\n",
    "\n",
    "_globals_pre_load = dict(globals())\n",
    "\n",
    "dill.load_session(\"session.pkl\")\n",
    "print(dict(globals().items() - _globals_pre_load.items()))  # displays everything that was loaded\n",
    "\n",
    "del _globals_pre_load\n",
    "del dill"
   ]
  }
 ],
 "metadata": {
  "kernelspec": {
   "display_name": "Python 3",
   "language": "python",
   "name": "python3"
  },
  "language_info": {
   "codemirror_mode": {
    "name": "ipython",
    "version": 3
   },
   "file_extension": ".py",
   "mimetype": "text/x-python",
   "name": "python",
   "nbconvert_exporter": "python",
   "pygments_lexer": "ipython3",
   "version": "3.10.8"
  }
 },
 "nbformat": 4,
 "nbformat_minor": 2
}
