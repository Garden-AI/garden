{
  "nbformat": 4,
  "nbformat_minor": 0,
  "metadata": {
    "colab": {
      "provenance": []
    },
    "kernelspec": {
      "name": "python3",
      "display_name": "Python 3"
    },
    "language_info": {
      "name": "python"
    }
  },
  "cells": [
    {
      "cell_type": "markdown",
      "source": [
        "# Garden Tutorial Finale: Execute Your Model Remotely\n",
        "\n",
        "This notebook is part of [the Garden AI tutorial](https://garden-ai.readthedocs.io/en/latest/user_guide/tutorial/).\n",
        "This notebook will show you how to invoke your iris classification model now that you've published it."
      ],
      "metadata": {
        "id": "dRc1DtqpH68j"
      }
    },
    {
      "cell_type": "markdown",
      "source": [
        "### Install the Garden SDK"
      ],
      "metadata": {
        "id": "_hh1W0rsImz0"
      }
    },
    {
      "cell_type": "code",
      "execution_count": null,
      "metadata": {
        "id": "tGh1WUj-Hpju"
      },
      "outputs": [],
      "source": [
        "# We'll need to install Garden in this Colab session\n",
        "!pip install garden-ai"
      ]
    },
    {
      "cell_type": "markdown",
      "source": [
        "## Create a GardenClient and Log in with Globus\n",
        "\n",
        "We need a GardenClient to run entrypoint functions. You'll have to log in like you did on the command line. Run the cell, click through the link, and paste the authorization code in the text box. Then you'll have a working GardenClient."
      ],
      "metadata": {
        "id": "gXG7GbSrIv9E"
      }
    },
    {
      "cell_type": "code",
      "source": [
        "from garden_ai import GardenClient\n",
        "garden_client = GardenClient()"
      ],
      "metadata": {
        "id": "NJX2WUUWIroW"
      },
      "execution_count": 4,
      "outputs": []
    },
    {
      "cell_type": "markdown",
      "source": [
        "### Fetch Your Published Garden\n",
        "\n",
        "Now you will pull down a copy of your garden from the Garden backend. If you don't remember your garden's doi, check with `garden-ai garden list` in a terminal on your computer."
      ],
      "metadata": {
        "id": "SMc0eVw6JTE7"
      }
    },
    {
      "cell_type": "code",
      "source": [
        "your_garden_doi = '' # Paste in your garden's DOI here!\n",
        "tutorial_garden = garden_client.get_published_garden(your_garden_doi)\n",
        "tutorial_garden"
      ],
      "metadata": {
        "id": "2wBOSOcTH3hN"
      },
      "execution_count": null,
      "outputs": []
    },
    {
      "cell_type": "markdown",
      "source": [
        "### Execute Your Model\n",
        "\n",
        "The entrypoint function from the notebook you used to publish will be a method on the garden it was published to. We just need to pass it the same input we passed it locally and call it. Garden will serialize your input, send it to a worker on the Garden demo computing endpoint, and send the response back to the notebook.\n",
        "\n",
        "#### Entrypoint Cold Start\n",
        "\n",
        "Your entrypoint might take a minute or so to run the first time you execute it. That's because the remote computing endpoint has to download the underlying container. But after that your entrypoint will be warmed up and only take a few seconds."
      ],
      "metadata": {
        "id": "hLfa8PjWLSXw"
      }
    },
    {
      "cell_type": "code",
      "source": [
        "example_input = [[5.1, 3.5, 1.4, 0.2]]\n",
        "tutorial_garden.classify_irises(example_input)"
      ],
      "metadata": {
        "id": "INv9mr-NK7QB"
      },
      "execution_count": null,
      "outputs": []
    },
    {
      "cell_type": "markdown",
      "source": [
        "## Wrapping Up\n",
        "\n",
        "If you see `['setosa']`, congratulations, you have successfully published and executed your first model with Garden! You can return to [the online tutorial](https://garden-ai.readthedocs.io/en/latest/user_guide/tutorial/) now."
      ],
      "metadata": {
        "id": "uzWWUQbxMf1Y"
      }
    }
  ]
}
